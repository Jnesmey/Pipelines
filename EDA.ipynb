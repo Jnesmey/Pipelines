{
 "cells": [
  {
   "cell_type": "markdown",
   "id": "d55ce4e6",
   "metadata": {},
   "source": [
    "### Содержание\n",
    "1. Открываем файл\n",
    "2. Проверяем на адекватность текстовое описание\n",
    "3. Очистка данных - пропуски и выбросы\n",
    "3. Контроль качества\n",
    "4. Отдельно работа с датой и временем\n",
    "5. Кодирование - пять вариантов\n",
    "6. Нормализаия - минмах или z\n",
    "7. Дисбаланс"
   ]
  },
  {
   "cell_type": "markdown",
   "id": "04bca19e",
   "metadata": {},
   "source": [
    "### Импорты библиотек"
   ]
  },
  {
   "cell_type": "code",
   "execution_count": null,
   "id": "066f0f00",
   "metadata": {},
   "outputs": [
    {
     "data": {
      "text/html": [
       "\n",
       "            <div>\n",
       "                <ins><a href=\"https://ydata.ai/register\">Upgrade to ydata-sdk</a></ins>\n",
       "                <p>\n",
       "                    Improve your data and profiling with ydata-sdk, featuring data quality scoring, redundancy detection, outlier identification, text validation, and synthetic data generation.\n",
       "                </p>\n",
       "            </div>\n",
       "            "
      ],
      "text/plain": [
       "<IPython.core.display.HTML object>"
      ]
     },
     "metadata": {},
     "output_type": "display_data"
    },
    {
     "name": "stderr",
     "output_type": "stream",
     "text": [
      "C:\\Users\\n3sm3\\AppData\\Local\\Temp\\ipykernel_24824\\1914710052.py:3: DeprecationWarning: `import pandas_profiling` is going to be deprecated by April 1st. Please use `import ydata_profiling` instead.\n",
      "  from pandas_profiling import ProfileReport\n"
     ]
    }
   ],
   "source": [
    "# pip install ipywidgets\n",
    "import pandas as pd\n",
    "from pandas_profiling import ProfileReport\n",
    "## Библиотека для визуализации пропущенных данных в наборах данных\n",
    "import missingno as msno"
   ]
  },
  {
   "cell_type": "code",
   "execution_count": 2,
   "id": "fe69a40d",
   "metadata": {},
   "outputs": [],
   "source": [
    "# pip install missingno"
   ]
  },
  {
   "cell_type": "markdown",
   "id": "9bcb462d",
   "metadata": {},
   "source": [
    "### Настройки вывода"
   ]
  },
  {
   "cell_type": "code",
   "execution_count": 2,
   "id": "f1db68c5",
   "metadata": {},
   "outputs": [],
   "source": [
    "pd.set_option('display.float_format', '{:,.2f}'.format) \n",
    "# Уберем параметр максимального числа столбцов, что бы наглядно видеть все данные\n",
    "pd.set_option('display.max_columns', None)"
   ]
  },
  {
   "cell_type": "markdown",
   "id": "89c87443",
   "metadata": {},
   "source": [
    "### Загружаем датасет"
   ]
  },
  {
   "cell_type": "code",
   "execution_count": 4,
   "id": "df75dea0",
   "metadata": {},
   "outputs": [
    {
     "data": {
      "text/html": [
       "<div>\n",
       "<style scoped>\n",
       "    .dataframe tbody tr th:only-of-type {\n",
       "        vertical-align: middle;\n",
       "    }\n",
       "\n",
       "    .dataframe tbody tr th {\n",
       "        vertical-align: top;\n",
       "    }\n",
       "\n",
       "    .dataframe thead th {\n",
       "        text-align: right;\n",
       "    }\n",
       "</style>\n",
       "<table border=\"1\" class=\"dataframe\">\n",
       "  <thead>\n",
       "    <tr style=\"text-align: right;\">\n",
       "      <th></th>\n",
       "      <th>title</th>\n",
       "      <th>author</th>\n",
       "      <th>pages</th>\n",
       "      <th>genre</th>\n",
       "      <th>description</th>\n",
       "      <th>published_date</th>\n",
       "      <th>publisher</th>\n",
       "      <th>language</th>\n",
       "      <th>average_rating</th>\n",
       "      <th>ratings_count</th>\n",
       "      <th>thumbnail</th>\n",
       "    </tr>\n",
       "  </thead>\n",
       "  <tbody>\n",
       "    <tr>\n",
       "      <th>666</th>\n",
       "      <td>The Journal of the National Education Association</td>\n",
       "      <td>National Education Association of the United S...</td>\n",
       "      <td>904</td>\n",
       "      <td>Education</td>\n",
       "      <td>No description available</td>\n",
       "      <td>1923</td>\n",
       "      <td>Unknown Publisher</td>\n",
       "      <td>en</td>\n",
       "      <td>No rating</td>\n",
       "      <td>0</td>\n",
       "      <td>http://books.google.com/books/content?id=AWonA...</td>\n",
       "    </tr>\n",
       "    <tr>\n",
       "      <th>842</th>\n",
       "      <td>Routledge Handbook of Contemporary African Mig...</td>\n",
       "      <td>Daniel Makina, Dominic Pasura</td>\n",
       "      <td>400</td>\n",
       "      <td>Political Science</td>\n",
       "      <td>This handbook provides an authoritative multid...</td>\n",
       "      <td>2023-09-01</td>\n",
       "      <td>Taylor &amp; Francis</td>\n",
       "      <td>en</td>\n",
       "      <td>No rating</td>\n",
       "      <td>0</td>\n",
       "      <td>http://books.google.com/books/content?id=n_rJE...</td>\n",
       "    </tr>\n",
       "    <tr>\n",
       "      <th>1577</th>\n",
       "      <td>The Double Clue</td>\n",
       "      <td>Agatha Christie</td>\n",
       "      <td>17</td>\n",
       "      <td>Fiction</td>\n",
       "      <td>Marcus Hardman, an antiques collector, hires P...</td>\n",
       "      <td>2023-10-08</td>\n",
       "      <td>MB Cooltura</td>\n",
       "      <td>en</td>\n",
       "      <td>No rating</td>\n",
       "      <td>0</td>\n",
       "      <td>http://books.google.com/books/content?id=FPfbE...</td>\n",
       "    </tr>\n",
       "    <tr>\n",
       "      <th>1168</th>\n",
       "      <td>Sherlock Holmes Collection: The Complete Stori...</td>\n",
       "      <td>Sir Arthur Conan Doyle</td>\n",
       "      <td>1635</td>\n",
       "      <td>Fiction</td>\n",
       "      <td>Get all of Sherlock Holmes' Adventures in one ...</td>\n",
       "      <td>2015-11-18</td>\n",
       "      <td>Xist Publishing</td>\n",
       "      <td>en</td>\n",
       "      <td>5</td>\n",
       "      <td>1</td>\n",
       "      <td>http://books.google.com/books/content?id=AePDC...</td>\n",
       "    </tr>\n",
       "    <tr>\n",
       "      <th>1246</th>\n",
       "      <td>A Study of George Orwell</td>\n",
       "      <td>Christopher Hollis</td>\n",
       "      <td>310</td>\n",
       "      <td>Literary Criticism</td>\n",
       "      <td>Author Christopher Hollis knew George Orwell p...</td>\n",
       "      <td>2017-06-20</td>\n",
       "      <td>Skyhorse</td>\n",
       "      <td>en</td>\n",
       "      <td>No rating</td>\n",
       "      <td>0</td>\n",
       "      <td>http://books.google.com/books/content?id=_z9wE...</td>\n",
       "    </tr>\n",
       "  </tbody>\n",
       "</table>\n",
       "</div>"
      ],
      "text/plain": [
       "                                                  title  \\\n",
       "666   The Journal of the National Education Association   \n",
       "842   Routledge Handbook of Contemporary African Mig...   \n",
       "1577                                    The Double Clue   \n",
       "1168  Sherlock Holmes Collection: The Complete Stori...   \n",
       "1246                           A Study of George Orwell   \n",
       "\n",
       "                                                 author pages  \\\n",
       "666   National Education Association of the United S...   904   \n",
       "842                       Daniel Makina, Dominic Pasura   400   \n",
       "1577                                    Agatha Christie    17   \n",
       "1168                             Sir Arthur Conan Doyle  1635   \n",
       "1246                                 Christopher Hollis   310   \n",
       "\n",
       "                   genre                                        description  \\\n",
       "666            Education                           No description available   \n",
       "842    Political Science  This handbook provides an authoritative multid...   \n",
       "1577             Fiction  Marcus Hardman, an antiques collector, hires P...   \n",
       "1168             Fiction  Get all of Sherlock Holmes' Adventures in one ...   \n",
       "1246  Literary Criticism  Author Christopher Hollis knew George Orwell p...   \n",
       "\n",
       "     published_date          publisher language average_rating  ratings_count  \\\n",
       "666            1923  Unknown Publisher       en      No rating              0   \n",
       "842      2023-09-01   Taylor & Francis       en      No rating              0   \n",
       "1577     2023-10-08        MB Cooltura       en      No rating              0   \n",
       "1168     2015-11-18    Xist Publishing       en              5              1   \n",
       "1246     2017-06-20           Skyhorse       en      No rating              0   \n",
       "\n",
       "                                              thumbnail  \n",
       "666   http://books.google.com/books/content?id=AWonA...  \n",
       "842   http://books.google.com/books/content?id=n_rJE...  \n",
       "1577  http://books.google.com/books/content?id=FPfbE...  \n",
       "1168  http://books.google.com/books/content?id=AePDC...  \n",
       "1246  http://books.google.com/books/content?id=_z9wE...  "
      ]
     },
     "execution_count": 4,
     "metadata": {},
     "output_type": "execute_result"
    }
   ],
   "source": [
    "# Прописать через путь и названия файла и разные разделители\n",
    "df = pd.read_csv('Books.csv')\n",
    "df.sample(5)"
   ]
  },
  {
   "cell_type": "markdown",
   "id": "97993798",
   "metadata": {},
   "source": [
    "### Автоматический отчет"
   ]
  },
  {
   "cell_type": "code",
   "execution_count": null,
   "id": "6e6c2709",
   "metadata": {},
   "outputs": [],
   "source": [
    "# Автоматический отчет\n",
    "# Не забудь, что действительно большие датасеты не помещаются в этот репорт\n",
    "profile = ProfileReport(df, title=\"Pandas Profiling Report\")\n",
    "# запускаем показ профиля\n",
    "# его надо сохранить \n",
    "# profile"
   ]
  },
  {
   "cell_type": "markdown",
   "id": "eb327cad",
   "metadata": {},
   "source": [
    "### Очистка данных (пропуски)"
   ]
  },
  {
   "cell_type": "markdown",
   "id": "d997100e",
   "metadata": {},
   "source": [
    "Работа с пропусками\n",
    "1. Подсчет пропусков\n",
    "2. Теоретическая классификация пропусков - востановимые/невосстановимые\n",
    "                                            случайные/неслучайные\n",
    "Главная задача - не исказить данные\n",
    "Методы работы с пропусками\n",
    "1) Удаление\n",
    "2) Отметка\n",
    "3) Восстановление\n",
    "                                       \n",
    "\n",
    "\n"
   ]
  },
  {
   "cell_type": "code",
   "execution_count": 12,
   "id": "1269af55",
   "metadata": {},
   "outputs": [
    {
     "data": {
      "text/plain": [
       "title             0\n",
       "author            0\n",
       "pages             0\n",
       "genre             0\n",
       "description       0\n",
       "published_date    0\n",
       "publisher         0\n",
       "language          0\n",
       "average_rating    0\n",
       "ratings_count     0\n",
       "thumbnail         0\n",
       "dtype: int64"
      ]
     },
     "execution_count": 12,
     "metadata": {},
     "output_type": "execute_result"
    }
   ],
   "source": [
    "df.isnull().sum()"
   ]
  },
  {
   "cell_type": "code",
   "execution_count": null,
   "id": "6a0cf2ae",
   "metadata": {},
   "outputs": [],
   "source": []
  },
  {
   "cell_type": "code",
   "execution_count": null,
   "id": "275a4d25",
   "metadata": {},
   "outputs": [],
   "source": []
  },
  {
   "cell_type": "code",
   "execution_count": null,
   "id": "a313de26",
   "metadata": {},
   "outputs": [],
   "source": []
  }
 ],
 "metadata": {
  "kernelspec": {
   "display_name": "Python 3",
   "language": "python",
   "name": "python3"
  },
  "language_info": {
   "codemirror_mode": {
    "name": "ipython",
    "version": 3
   },
   "file_extension": ".py",
   "mimetype": "text/x-python",
   "name": "python",
   "nbconvert_exporter": "python",
   "pygments_lexer": "ipython3",
   "version": "3.11.9"
  }
 },
 "nbformat": 4,
 "nbformat_minor": 5
}
